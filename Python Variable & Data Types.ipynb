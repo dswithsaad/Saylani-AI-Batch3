{
 "cells": [
  {
   "cell_type": "code",
   "execution_count": 4,
   "metadata": {},
   "outputs": [
    {
     "name": "stdout",
     "output_type": "stream",
     "text": [
      "My name is Muhammad Saad\n",
      "My email add is sm.saad50@gmail.com\n",
      "And I am 33 years old\n",
      "My father name is Muhammad Ashfaq\n",
      "I live in Sheikh Residency appartment, Nazimabad block #4, Karachi\n"
     ]
    }
   ],
   "source": [
    "#Declaring variable & printing it's results\n",
    "\n",
    "name = 'Muhammad Saad'\n",
    "email = 'sm.saad50@gmail.com'\n",
    "age = 33\n",
    "father_name = 'Muhammad Ashfaq'\n",
    "city = 'Karachi'\n",
    "address = 'Sheikh Residency appartment, Nazimabad block #4, '\n",
    "\n",
    "print('My name is ' + name)\n",
    "print('My email add is ' + email)\n",
    "print('And I am ' + str(age) +  ' years old')\n",
    "print('My father name is ' + father_name)\n",
    "print('I live in '+ address+city)"
   ]
  },
  {
   "cell_type": "code",
   "execution_count": 5,
   "metadata": {},
   "outputs": [
    {
     "name": "stdout",
     "output_type": "stream",
     "text": [
      "2.3000000000000007\n"
     ]
    }
   ],
   "source": [
    "# Numerical Data Types. Here I used int & float. x is in int & y is in float.\n",
    "x  = 10\n",
    "y = 12.30\n",
    "print(y-x)"
   ]
  },
  {
   "cell_type": "code",
   "execution_count": 6,
   "metadata": {},
   "outputs": [
    {
     "name": "stdout",
     "output_type": "stream",
     "text": [
      " I am studying in Saylani & I am registered in batch # 3 for AI & Data Science Course & My instructor is name Sir Qasim\n"
     ]
    }
   ],
   "source": [
    "# Strings Data Types in Python.\n",
    "institute = 'Saylani'\n",
    "batch = 'batch # 3'\n",
    "course = 'AI & Data Science Course'\n",
    "instructor = 'Sir Qasim'\n",
    "print(' I am studying in '+institute+' & I am registered in '+batch +' for '+course+ ' & My instructor is name '+instructor)"
   ]
  },
  {
   "cell_type": "code",
   "execution_count": 7,
   "metadata": {},
   "outputs": [
    {
     "name": "stdout",
     "output_type": "stream",
     "text": [
      "<class 'int'>\n",
      "<class 'float'>\n",
      "<class 'str'>\n"
     ]
    }
   ],
   "source": [
    "# Checking Data in Python.\n",
    "print(type(x))\n",
    "print(type(y))\n",
    "print(type(institute))"
   ]
  },
  {
   "cell_type": "code",
   "execution_count": 8,
   "metadata": {},
   "outputs": [
    {
     "name": "stdout",
     "output_type": "stream",
     "text": [
      "[10, 20, 30, 40, 20, 30, 'Saylani']\n"
     ]
    }
   ],
   "source": [
    "# List in Python\n",
    "mylist = [10,20,30,40,20,30, 'Saylani']\n",
    "print(mylist)"
   ]
  },
  {
   "cell_type": "code",
   "execution_count": null,
   "metadata": {},
   "outputs": [],
   "source": []
  }
 ],
 "metadata": {
  "kernelspec": {
   "display_name": "Python 3",
   "language": "python",
   "name": "python3"
  },
  "language_info": {
   "codemirror_mode": {
    "name": "ipython",
    "version": 3
   },
   "file_extension": ".py",
   "mimetype": "text/x-python",
   "name": "python",
   "nbconvert_exporter": "python",
   "pygments_lexer": "ipython3",
   "version": "3.8.3"
  }
 },
 "nbformat": 4,
 "nbformat_minor": 4
}
